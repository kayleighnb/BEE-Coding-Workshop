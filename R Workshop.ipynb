{
 "cells": [
  {
   "cell_type": "markdown",
   "metadata": {},
   "source": [
    "# R Coding Workshop \n",
    "4/15/2021"
   ]
  },
  {
   "cell_type": "markdown",
   "metadata": {},
   "source": [
    "## Overview\n",
    "\n",
    "Graduate Student Instructor: Kayleigh Barnes\n",
    "\n",
    "Email: kayleighnb@berkeley.edu\n",
    "\n",
    "### Goals for today\n",
    "This session is intended to guide you through the practical implementation of basic analytic techniques in R in Jupyter notebooks. R is an open-source statistical computing software used to analyze data. A Jupyter Notebook is an open-source web application that allows you to create and share documents that contain live code, equations, visualizations and narrative text. This workshop will be focused on interactive demonstration in R, but also include time for additional questions and guidance in working through the sample code. We will cover some fundamental coding techniques that will help you in Econ 140, basic data science classes, or research assistant positions. This workshop is for *beginners* that have little or no coding experience.\n",
    "\n",
    "\n",
    "\n",
    "### Important notes \n",
    "- One attendee from today's workshop will be randomly selected to win a 20 dollar gift card to Amazon \n",
    "- Attendance to this workshop comes with free access to datacamp through July. Datacamp offers online courses in both R and Python so that you can continue learning after today's workshop \n",
    "- Link to join Berkeley Econ's datacamp group with @berkeley.edu ID: [here](https://www.datacamp.com/groups/shared_links/9cecd27b5daab26dc69f7d4a48b3c2ae5e20ff9ed77e3e239fa2e4510a4848d3) (make sure you're signed out of datacamp before clicking this - otherwise the sign-up gets screwed and you'll be asked to pay after the first chapter of any course)\n",
    "\n",
    "## Jupyter and R Basics\n",
    "- To create a new notebook, click the \"New\" button and select R\n",
    "- Write R script by selecting the option \"Code\" from the dropdown list, or write text by selecting \"Markdown\"\n",
    "- Select \"Insert\" to add a block of text or code\n",
    "- Run code by highlighting and selecting \"Run\"\n",
    "- Use the # symbol to add comments to the script, or to add headlines to text selections\n",
    "- To clear your coding output, select Cell=>All Output=>Clear "
   ]
  },
  {
   "cell_type": "code",
   "execution_count": null,
   "metadata": {},
   "outputs": [],
   "source": [
    "  # Clear the workspace, this removes all data and numbers you have stored or saved in R\n",
    "  rm(list = ls())\n",
    "  \n",
    "  # The help function, using ? or help() before a command will bring up information on what the command does\n",
    "  ?setwd\n",
    "  help(setwd)"
   ]
  },
  {
   "cell_type": "code",
   "execution_count": null,
   "metadata": {},
   "outputs": [],
   "source": [
    "#The working directory is the location that R will look for data in\n",
    "    # this is the same as telling your computer to look in a documents folder when uploading soemthing\n",
    "getwd()"
   ]
  },
  {
   "cell_type": "markdown",
   "metadata": {},
   "source": [
    "User written open-source packages are needed for specific functionality in R (e.g. nice graphics). However, we need to manually install these packages (once) and load them at the beginning of every script. Packages have been pre-installed in Jupyter notebooks.  If you are wondering why a command you've used before is no longer working, it may be because you haven't loaded the package."
   ]
  },
  {
   "cell_type": "code",
   "execution_count": null,
   "metadata": {},
   "outputs": [],
   "source": [
    "  #Install packages\n",
    " # install.packages('ggplot2') # remove the first # to install ggplot2, it is already installed on datahub\n",
    "  \n",
    "  # Load required packages\n",
    "  library(ggplot2)"
   ]
  },
  {
   "cell_type": "markdown",
   "metadata": {},
   "source": [
    "## Loading in data and summary statistics"
   ]
  },
  {
   "cell_type": "markdown",
   "metadata": {},
   "source": [
    "Now let's load in the data set. Make sure you have uploaded the data to Jupyter before running the next line of code. We are going to use data on a set of households in Mexico in the 1990's. The data includes a village ID, a household ID, and demogrpahic variables like income, household size, age and gender of the head of household and a poverty indicator. "
   ]
  },
  {
   "cell_type": "code",
   "execution_count": null,
   "metadata": {},
   "outputs": [],
   "source": [
    "# Reading data into R from a CSV file\n",
    "#  ?read.table # delete the # at the beginning of this line to view the help entry for the \"read\" command\n",
    "  MyFirstData <- read.csv('MyFirstData.csv', header = TRUE, stringsAsFactors = TRUE)"
   ]
  },
  {
   "cell_type": "markdown",
   "metadata": {},
   "source": [
    "Notice that there is no ouput from the code that reads in the data. Unlike excel, R stores the data in the background and we need to use specific comands to interact with it. Once it's read in, we can use several commands to describe the data"
   ]
  },
  {
   "cell_type": "code",
   "execution_count": null,
   "metadata": {},
   "outputs": [],
   "source": [
    "# Structure of the Data\n",
    "  str(MyFirstData)"
   ]
  },
  {
   "cell_type": "code",
   "execution_count": null,
   "metadata": {},
   "outputs": [],
   "source": [
    "  # Summary of the Data\n",
    "  summary(MyFirstData)"
   ]
  },
  {
   "cell_type": "code",
   "execution_count": null,
   "metadata": {},
   "outputs": [],
   "source": [
    "  # Variable Names\n",
    "  colnames(MyFirstData)"
   ]
  },
  {
   "cell_type": "code",
   "execution_count": null,
   "metadata": {},
   "outputs": [],
   "source": [
    "  #Number of Observations\n",
    "  nrow(MyFirstData)"
   ]
  },
  {
   "cell_type": "code",
   "execution_count": null,
   "metadata": {},
   "outputs": [],
   "source": [
    "  #Display first 6 rows of the data \n",
    "  head(MyFirstData)"
   ]
  },
  {
   "cell_type": "code",
   "execution_count": null,
   "metadata": {},
   "outputs": [],
   "source": [
    "  #Tabulate a specific variable (to refer to a variable, use Dataset$VariableName)\n",
    "  table(MyFirstData$sexhead)"
   ]
  },
  {
   "cell_type": "markdown",
   "metadata": {},
   "source": [
    "## Basic Data Cleaning and Formatting\n",
    "\n",
    "### Category Variable\n",
    "\n",
    "Right now, we have two categorical variables: sexhead, which indicates the sex of the head of household and pov_HH, which indicates whether a household is below the poverty line. The data entries for these variables are text rather than numbers (we call these string variables in the data science world). Often when doing data analysis, it is easier to map categorical text variables to numbers, particularly 0 and 1. These variables that contain only 0's and 1's are called dummy variables. \n",
    "\n",
    "Now, suppose we want to create a poor_male variable, which will be defined as 1 if the household is categorized as poor (pov_HH = pobre) and the head of the household is male (sexhead is Male), and 0 otherwise."
   ]
  },
  {
   "cell_type": "code",
   "execution_count": null,
   "metadata": {},
   "outputs": [],
   "source": [
    "#Create one dummy variable based on T/F condition\n",
    "MyFirstData$poor_male <- ifelse(MyFirstData$pov_HH == 'pobre' & MyFirstData$sexhead == 'Male', 1, 0)\n",
    "  #tabulate the observations\n",
    "  table(MyFirstData$poor_male)"
   ]
  },
  {
   "cell_type": "markdown",
   "metadata": {},
   "source": [
    "### Numerical Variable\n",
    "We can use regular mathematical operations to create numerical variables from other variables."
   ]
  },
  {
   "cell_type": "code",
   "execution_count": null,
   "metadata": {},
   "outputs": [],
   "source": [
    "#Squaring an existing variable\n",
    "MyFirstData$agehead2 <-  MyFirstData$agehead^2\n",
    "summary(MyFirstData$agehead2)\n",
    "\n",
    "#Creating a constant\n",
    "MyFirstData$constant <- 1\n",
    "summary(MyFirstData$constant)"
   ]
  },
  {
   "cell_type": "markdown",
   "metadata": {},
   "source": [
    " ### New Datasets\n",
    " We may also want to create a new data that summarizes the old, or is a subset of the original dataset."
   ]
  },
  {
   "cell_type": "code",
   "execution_count": null,
   "metadata": {},
   "outputs": [],
   "source": [
    "#Subset of only observations with male head of hh\n",
    "data_males<-MyFirstData[ which(MyFirstData$sexhead=='Male'),]\n",
    "summary(data_males)\n",
    "\n",
    "#First select variables to aggregate\n",
    "myvars <- c(\"villid\", \"IncomeLab\", \"famsize\", \"agehead\")\n",
    "meandata <- MyFirstData[myvars]\n",
    "\n",
    "#Collapse data to get average values by village.  Could also use \"sum\" as the function to get totals\n",
    "meandata<-aggregate(meandata, by = list(meandata$villid), FUN = mean)\n",
    "nrow(meandata)\n",
    "summary(meandata)\n",
    "\n"
   ]
  },
  {
   "cell_type": "markdown",
   "metadata": {},
   "source": [
    "## Making comparisons - T-Tests\n",
    "\n",
    "A main goal of working with data is to make inferences about the population we are interested in. Much of Econ 140 will be focused on methods to make these inferences: What is the relationship between two variables? Did an experiment have a significant treatment effect?\n",
    "\n",
    "If you have taken Stats 20, you are likely already familiar with a t-test. T-tests compare the difference in the means of a variable between two groups. The test statistic tells us whether the difference is *significant*, that is we can confidently say that the two groups are different. "
   ]
  },
  {
   "cell_type": "code",
   "execution_count": null,
   "metadata": {},
   "outputs": [],
   "source": [
    "#let's run a t-test comparing the average family size for households above and below the poverty line\n",
    "t.test(MyFirstData$famsize ~ MyFirstData$pov_HH, var.equal = TRUE)"
   ]
  },
  {
   "cell_type": "markdown",
   "metadata": {},
   "source": [
    "## Visualizing Data\n",
    "Make sure that the ggplot2 package is included at the top of the script.  Below, we show an example of a scatterplot using ggplot.  \"geom\" can be used to denote different types of graphs such as a line graph."
   ]
  },
  {
   "cell_type": "code",
   "execution_count": null,
   "metadata": {},
   "outputs": [],
   "source": [
    "  ggplot(MyFirstData, aes(x = agehead, y=famsize)) + geom_point()\n",
    "  ?geom_line  "
   ]
  },
  {
   "cell_type": "markdown",
   "metadata": {},
   "source": [
    "We can use a direct function or ggplot to create a histogram. Notice that changing the options in the function allows you to customize the graph. Use the help function to learn more about the options for each command."
   ]
  },
  {
   "cell_type": "code",
   "execution_count": null,
   "metadata": {},
   "outputs": [],
   "source": [
    "# Base Graphics\n",
    "  hist(MyFirstData$agehead)\n",
    "  hist(MyFirstData$agehead, col = \"blue\", main = \"Histogram of age\")\n",
    "  # ggplot2\n",
    "  ggplot(MyFirstData, aes(x = agehead)) + geom_histogram(fill = \"blue\") + ggtitle(\"Histogram of age\")"
   ]
  },
  {
   "cell_type": "code",
   "execution_count": null,
   "metadata": {},
   "outputs": [],
   "source": []
  }
 ],
 "metadata": {
  "kernelspec": {
   "display_name": "R",
   "language": "R",
   "name": "ir"
  },
  "language_info": {
   "codemirror_mode": "r",
   "file_extension": ".r",
   "mimetype": "text/x-r-source",
   "name": "R",
   "pygments_lexer": "r",
   "version": "4.0.5"
  }
 },
 "nbformat": 4,
 "nbformat_minor": 2
}
