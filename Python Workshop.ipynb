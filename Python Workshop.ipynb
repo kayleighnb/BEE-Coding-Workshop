{
 "cells": [
  {
   "cell_type": "markdown",
   "metadata": {},
   "source": [
    "# Python Coding Workshop\n",
    "\n",
    "4/15/21"
   ]
  },
  {
   "cell_type": "markdown",
   "metadata": {},
   "source": [
    "## Overview\n",
    "\n",
    "Graduate Student Instructor: Kayleigh Barnes\n",
    "\n",
    "Email: kayleighnb@berkeley.edu\n",
    "\n",
    "### Goals for today\n",
    "This session is intended to guide you through the practical implementation of basic analytic techniques in Python in Jupyter notebooks. Python is an open-source statistical computing software used to analyze data (among many, many other things). A Jupyter Notebook is an open-source web application that allows you to create and share documents that contain live code, equations, visualizations and narrative text. This workshop will be focused on interactive demonstration in Python, but also include time for additional questions and guidance in working through the sample code. We will cover some fundamental coding techniques that will help you in Econ 140, basic data science classes, or research assistant positions. This workshop is for *beginners* that have little or no coding experience.\n",
    "\n",
    "\n",
    "\n",
    "### Important notes \n",
    "- One attendee from today's workshop will be randomly selected to win a 20 dollar gift card to Amazon \n",
    "- Attendance to this workshop comes with free access to datacamp through July. Datacamp offers online courses in both R and Python so that you can continue learning after today's workshop \n",
    "- Link to join Berkeley Econ's datacamp group with @berkeley.edu ID: [here](https://www.datacamp.com/groups/shared_links/9cecd27b5daab26dc69f7d4a48b3c2ae5e20ff9ed77e3e239fa2e4510a4848d3) (make sure you're signed out of datacamp before clicking this - otherwise the sign-up gets screwed and you'll be asked to pay after the first chapter of any course)\n",
    "\n",
    "## Jupyter and Python Basics\n",
    "- To create a new notebook, click the \"New\" button and select Python 3\n",
    "- Write Python script by selecting the option \"Code\" from the dropdown list, or write text by selecting \"Markdown\"\n",
    "- Select \"Insert\" to add a block of text or code\n",
    "- Run code by highlighting and selecting \"Run\"\n",
    "- Use the # symbol to add comments to the script, or to add headlines to text selections\n",
    "- To clear your coding output, select Cell=>All Output=>Clear "
   ]
  },
  {
   "cell_type": "markdown",
   "metadata": {},
   "source": [
    "User written open-source libraries are needed for specific functionality in python (e.g. nice graphics, data analysis). However, we need to manually install these libraries (once) and load them at the beginning of every script. Libraries have been pre-installed in Jupyter notebooks. If you are wondering why a command you've used before is no longer working, it may be because you haven't loaded the library."
   ]
  },
  {
   "cell_type": "code",
   "execution_count": null,
   "metadata": {},
   "outputs": [],
   "source": [
    "import numpy as np #Numeric Python, allows us to sort and index data mong many many other things (next two packages use it as a base)\n",
    "import scipy as sp #Scientific Python, similar to numpy but with more linear algebra capabilities\n",
    "from scipy import stats\n",
    "import pandas as pd #this is the library that enables interacting with data very important!\n",
    "import os #Operating system, will use to manage working directory\n",
    "import matplotlib.pyplot as plt #for making nice graphs\n",
    "plt.style.use('seaborn-whitegrid')"
   ]
  },
  {
   "cell_type": "code",
   "execution_count": null,
   "metadata": {},
   "outputs": [],
   "source": [
    "# The help function, using help() before a command will bring up information on what the command does\n",
    "help(print)"
   ]
  },
  {
   "cell_type": "code",
   "execution_count": null,
   "metadata": {},
   "outputs": [],
   "source": [
    "#The working directory is the location that R will look for data in\n",
    "    # this is the same as telling your computer to look in a documents folder when uploading soemthing\n",
    "os.getcwd()\n",
    "#os.chdir('/home/jovyan/my-work') #remove the first # from this line to run code that changes the working directory\n"
   ]
  },
  {
   "cell_type": "markdown",
   "metadata": {},
   "source": [
    "## Loading in data and summary statistics\n",
    "\n",
    "Now let's load in the data set. Make sure you have uploaded the data to Jupyter before running the next line of code. We are going to use data on a set of households in Mexico in the 1990's. The data includes a village ID, a household ID, and demogrpahic variables like income, household size, age and gender of the head of household and a poverty indicator. "
   ]
  },
  {
   "cell_type": "code",
   "execution_count": null,
   "metadata": {},
   "outputs": [],
   "source": [
    "MyFirstData = pd.read_csv('Data/MyFirstData.csv') "
   ]
  },
  {
   "cell_type": "markdown",
   "metadata": {},
   "source": [
    "Notice that there is no ouput from the code that reads in the data. Unlike excel, R stores the data in the background and we need to use specific comands to interact with it. Once it's read in, we can use several commands to describe the data."
   ]
  },
  {
   "cell_type": "code",
   "execution_count": null,
   "metadata": {},
   "outputs": [],
   "source": [
    "# Information about the structure of the data\n",
    "MyFirstData.info()"
   ]
  },
  {
   "cell_type": "code",
   "execution_count": null,
   "metadata": {},
   "outputs": [],
   "source": [
    "# summary statistics for the data \n",
    "MyFirstData.describe(include='all')"
   ]
  },
  {
   "cell_type": "code",
   "execution_count": null,
   "metadata": {},
   "outputs": [],
   "source": [
    "# print the names of the columns of the data\n",
    "MyFirstData.columns"
   ]
  },
  {
   "cell_type": "code",
   "execution_count": null,
   "metadata": {},
   "outputs": [],
   "source": [
    "# number of rows and number of columns\n",
    "MyFirstData.shape"
   ]
  },
  {
   "cell_type": "code",
   "execution_count": null,
   "metadata": {},
   "outputs": [],
   "source": [
    "# first X rows of the data\n",
    "MyFirstData.head(6)"
   ]
  },
  {
   "cell_type": "code",
   "execution_count": null,
   "metadata": {},
   "outputs": [],
   "source": [
    "# display values and counts of categorical data \n",
    "MyFirstData['sexhead'].value_counts()"
   ]
  },
  {
   "cell_type": "markdown",
   "metadata": {},
   "source": [
    "## Basic Data Cleaning and Formatting\n",
    "\n",
    "### Category Variable\n",
    "\n",
    "Right now, we have two categorical variables: sexhead, which indicates the sex of the head of household and pov_HH, which indicates whether a household is below the poverty line. The data entries for these variables are text rather than numbers (we call these string variables in the data science world). Often when doing data analysis, it is easier to map categorical text variables to numbers, particularly 0 and 1. These variables that contain only 0's and 1's are called dummy variables. \n",
    "\n",
    "Now, suppose we want to create a poor_male variable, which will be defined as 1 if the household is categorized as poor (pov_HH = pobre) and the head of the household is male (sexhead is Male), and 0 otherwise."
   ]
  },
  {
   "cell_type": "code",
   "execution_count": null,
   "metadata": {},
   "outputs": [],
   "source": [
    "# first, lets create dummy variables out of sexhead and pov_HH using the map function\n",
    "MyFirstData['sexhead_male'] = MyFirstData['sexhead'].map({'Male':1, 'Female':0})\n",
    "MyFirstData['pov_HH_pobre'] = MyFirstData['pov_HH'].map({'pobre':1, 'no pobre':0})\n",
    "\n",
    "# compare this output to the output above to make sure it worked correctly\n",
    "MyFirstData['sexhead_male'].value_counts()"
   ]
  },
  {
   "cell_type": "code",
   "execution_count": null,
   "metadata": {},
   "outputs": [],
   "source": [
    "MyFirstData['poor_male']=MyFirstData['pov_HH_pobre']*MyFirstData['sexhead_male']\n",
    "MyFirstData['poor_male'].value_counts()"
   ]
  },
  {
   "cell_type": "markdown",
   "metadata": {},
   "source": [
    "### Numerical Variable\n",
    "We can use regular mathematical operations to create numerical variables from other variables."
   ]
  },
  {
   "cell_type": "code",
   "execution_count": null,
   "metadata": {},
   "outputs": [],
   "source": [
    "MyFirstData['agehead2'] = MyFirstData['agehead']**2\n",
    "MyFirstData['agehead2'].describe()"
   ]
  },
  {
   "cell_type": "code",
   "execution_count": null,
   "metadata": {},
   "outputs": [],
   "source": [
    "MyFirstData['constant'] = 1\n",
    "MyFirstData['constant'].describe()"
   ]
  },
  {
   "cell_type": "markdown",
   "metadata": {},
   "source": [
    " ### New Datasets\n",
    " We may also want to create a new data that summarizes the old, or is a subset of the original dataset."
   ]
  },
  {
   "cell_type": "code",
   "execution_count": null,
   "metadata": {},
   "outputs": [],
   "source": [
    "#Subset of only observations with male head of hh\n",
    "data_males=MyFirstData.loc[MyFirstData['sexhead_male']==1]\n",
    "data_males.describe(include='all')"
   ]
  },
  {
   "cell_type": "code",
   "execution_count": null,
   "metadata": {},
   "outputs": [],
   "source": [
    "meandata = MyFirstData.groupby('villid').agg({'IncomeLab':['mean'],\n",
    "                            'famsize':['mean'],\n",
    "                            'agehead':['mean']}).reset_index()\n",
    "meandata.columns = ['villid', 'meanIncomeLab', 'meanfamsize', 'meanagehead']\n",
    "meandata.describe(include='all')"
   ]
  },
  {
   "cell_type": "markdown",
   "metadata": {},
   "source": [
    "## Making comparisons - T-Tests\n",
    "\n",
    "A main goal of working with data is to make inferences about the population we are interested in. Much of Econ 140 will be focused on methods to make these inferences: What is the relationship between two variables? Did an experiment have a significant treatment effect?\n",
    "\n",
    "If you have taken Stats 20, you are likely already familiar with a t-test. T-tests compare the difference in the means of a variable between two groups. The test statistic tells us whether the difference is *significant*, that is we can confidently say that the two groups are different. "
   ]
  },
  {
   "cell_type": "code",
   "execution_count": null,
   "metadata": {},
   "outputs": [],
   "source": [
    "MyFirstData.groupby('pov_HH').mean()"
   ]
  },
  {
   "cell_type": "code",
   "execution_count": null,
   "metadata": {},
   "outputs": [],
   "source": [
    "cat1 = MyFirstData[MyFirstData['pov_HH']=='pobre']\n",
    "cat2 = MyFirstData[MyFirstData['pov_HH']=='no pobre']\n",
    "\n",
    "stats.ttest_ind(cat1['famsize'], cat2['famsize'])"
   ]
  },
  {
   "cell_type": "markdown",
   "metadata": {},
   "source": [
    "## Visualizing Data\n",
    "We will use the library matplotlib to make some graphs"
   ]
  },
  {
   "cell_type": "code",
   "execution_count": null,
   "metadata": {},
   "outputs": [],
   "source": [
    "plt.figure(figsize=(9,7))\n",
    "plt.scatter(MyFirstData['agehead'], MyFirstData['famsize'])"
   ]
  },
  {
   "cell_type": "code",
   "execution_count": null,
   "metadata": {},
   "outputs": [],
   "source": [
    "plt.figure(figsize=(9,7))\n",
    "plt.hist(MyFirstData['famsize'], density=True, bins=30)\n",
    "plt.xlabel('Family Size')\n",
    "plt.title('Histogram of Family Size')"
   ]
  },
  {
   "cell_type": "code",
   "execution_count": null,
   "metadata": {},
   "outputs": [],
   "source": []
  }
 ],
 "metadata": {
  "kernelspec": {
   "display_name": "Python 3",
   "language": "python",
   "name": "python3"
  },
  "language_info": {
   "codemirror_mode": {
    "name": "ipython",
    "version": 3
   },
   "file_extension": ".py",
   "mimetype": "text/x-python",
   "name": "python",
   "nbconvert_exporter": "python",
   "pygments_lexer": "ipython3",
   "version": "3.7.6"
  }
 },
 "nbformat": 4,
 "nbformat_minor": 4
}
